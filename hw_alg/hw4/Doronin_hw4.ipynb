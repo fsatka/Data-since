{
 "cells": [
  {
   "cell_type": "markdown",
   "metadata": {},
   "source": [
    "# Алгоритмы интеллектуальной обработки больших объемов данных\n",
    "## Домашнее задание №4 - Метод k-средних, предобработка признаков\n"
   ]
  },
  {
   "cell_type": "markdown",
   "metadata": {},
   "source": [
    "###### <hr\\>\n",
    "**Общая информация**\n",
    "\n",
    "**Срок сдачи:** 25 апреля 2018, 06:00 <br\\>\n",
    "**Штраф за опоздание:** -2 балла после 06:00 25 апреля, -4 баллов после 06:00 2 мая, -6 баллов после 06:00 9 мая\n",
    "\n",
    "При отправлении ДЗ указывайте фамилию в названии файла<br\\>\n",
    "\n",
    "Используйте данный Ipython Notebook при оформлении домашнего задания.\n",
    "\n",
    "**Штрафные баллы:**\n",
    "\n",
    "1. Невыполнение PEP8 -1 балл\n",
    "2. Отсутствие фамилии в имени скрипта (скрипт должен называться по аналогии со stroykova_hw4.ipynb) -1 балл\n",
    "3. Все строчки должны быть выполнены. Нужно, чтобы output команды можно было увидеть уже в git'е. В противном случае -1 балл\n",
    "4. При оформлении ДЗ нужно пользоваться данным файлом в качестве шаблона. Не нужно удалять и видоизменять написанный код и текст. В противном случае -1 балл\n",
    "<hr\\>"
   ]
  },
  {
   "cell_type": "code",
   "execution_count": 1,
   "metadata": {},
   "outputs": [],
   "source": [
    "import pandas as pd\n",
    "import numpy as np\n",
    "import matplotlib.pyplot as plt\n",
    "\n",
    "%matplotlib inline\n",
    "\n",
    "plt.style.use('ggplot')\n",
    "plt.rcParams['figure.figsize'] = (12,5)\n",
    "\n",
    "%load_ext pycodestyle_magic"
   ]
  },
  {
   "cell_type": "markdown",
   "metadata": {},
   "source": [
    "# Имплементация K-means\n",
    "\n",
    "Пользуясь наработками выше, имплементируйте метод k-means.  \n",
    "При инициализации необходимо задавать количество кластеров, функцию расстояния между кластерами (для оригинального k-means - евклидово расстояние) и начальное состояние генератора случайных чисел.\n",
    "\n",
    "После обучения, среди атрибутов класса `Kmeans` должны появится\n",
    "* Метки кластеров для объектов\n",
    "* Координаты центройдов кластеров\n",
    "\n",
    "k-means - это алгоритм **кластеризации**, а не классификации, а посему метод `.predict()` в нем фактически не нужен, но он может возвращать метки ближайшего кластера для объектов."
   ]
  },
  {
   "cell_type": "markdown",
   "metadata": {},
   "source": [
    "###### Задание 1 (2 баллов)\n",
    "Имплементируйте метод k-means. Задание считается выполненным, если Ваша реализация работает быстрее реализации из sklearn.\n",
    "\n",
    "Теория для выполнения задания 2 и 3 остаётся на самостоятельное изучение. Теории немного и она совсем простая.\n",
    "\n",
    "###### Задание 2 (2 балла)\n",
    "Имплементируйте класс MiniBatchKMeans, который является классом наследником Kmeans.\n",
    "\n",
    "###### Задание 3 (2 балла)\n",
    "Превратите k-means в k-means++. Для этого нужно реализовать метод в классе Kmeans, который будет инициализировать более \"хорошие\" значения центроидов. Чтобы использовался метод k-means++, в параметр init необходимо передать строковое значение 'k-means' (по умолчанию 'random').\n",
    "\n",
    "###### Задание 4 (2 балла)\n",
    "В пункте \"Проверка корректности метода\" нужно нарисовать графики, которые показывают зависимость времени выполнения алгоритма от количества сэмплов. Графики должны быть  нарисованы для различных комбинаций реализаций алгоритма (k-means, k-means++, k-means с MiniBatchKMeans, k-means++ с MiniBatchKMeans). График достаточно построить на 5-10 точках.\n",
    "\n",
    "###### Задание 5 (2 балла)\n",
    "В пункте \"Применение K-means на реальных данных\" нужно сравнить различные реализации k-means (k-means, k-means++, k-means с MiniBatchKMeans, k-means++ с MiniBatchKMeans). После чего написать вывод, в котором должно быть объяснение того, почему один алгоритм оказался лучше остальных или почему не было выявлено лучшего алгоритма."
   ]
  },
  {
   "cell_type": "code",
   "execution_count": 303,
   "metadata": {},
   "outputs": [
    {
     "name": "stderr",
     "output_type": "stream",
     "text": [
      "3:80: E501 line too long (97 > 79 characters)\n",
      "25:80: E501 line too long (102 > 79 characters)\n",
      "29:80: E501 line too long (103 > 79 characters)\n",
      "39:80: E501 line too long (98 > 79 characters)\n",
      "43:80: E501 line too long (99 > 79 characters)\n",
      "67:80: E501 line too long (112 > 79 characters)\n",
      "86:80: E501 line too long (111 > 79 characters)\n",
      "122:80: E501 line too long (113 > 79 characters)\n"
     ]
    }
   ],
   "source": [
    "%%pycodestyle\n",
    "\n",
    "class MyKmeans:\n",
    "    def __init__(self, k=2, metric='euclidean', max_iter=1000, random_state=None, init='random'):\n",
    "        \"\"\"\n",
    "        Инициализация метода\n",
    "        :k - количество кластеров\n",
    "        :metric - функция расстояния между объектами\n",
    "        :max_iter - максиальное количество итераций\n",
    "        :random_state - seed для инициализации генератора случайных чисел\n",
    "        \"\"\"\n",
    "        self.init = init\n",
    "        self.k = k\n",
    "        self.random_state = random_state\n",
    "        self.metric = metric\n",
    "        self.max_iter = max_iter\n",
    "\n",
    "    def init_centroids(self, X):\n",
    "        if self.init == 'random':\n",
    "            self.centroids = X[np.random.choice(X.shape[0], self.k)]\n",
    "        elif self.init == 'k-means':\n",
    "            self.centroids = np.empty((self.k, X.shape[1]))\n",
    "            self.centroids[0] = X[np.random.choice(X.shape[0], 1)]\n",
    "\n",
    "            for itera in range(1, self.k):\n",
    "                distances = ((X[np.newaxis, :] - self.centroids[:itera, np.newaxis]) ** 2).sum(axis=2)\n",
    "                mins = np.min(distances, axis=0)\n",
    "                minsum = np.sum(mins, axis=0)\n",
    "                probs = mins / minsum\n",
    "                self.centroids[itera] = X[np.random.choice(X.shape[0], size=1, replace=False, p=probs)]\n",
    "\n",
    "    def init_random(self, X):\n",
    "        self.centroids = X[np.random.choice(X.shape[0], self.k)]\n",
    "\n",
    "    def init_plpl(self, X):\n",
    "        self.centroids = np.empty((self.k, X.shape[1]))\n",
    "        self.centroids[0] = X[np.random.choice(X.shape[0], 1)]\n",
    "\n",
    "        for itera in range(1, self.k):\n",
    "            distances = ((X[np.newaxis, :] - self.centroids[:itera, np.newaxis]) ** 2).sum(axis=2)\n",
    "            mins = np.min(distances, axis=0)\n",
    "            minsum = np.sum(mins, axis=0)\n",
    "            probs = mins / minsum\n",
    "            self.centroids[itera] = X[np.random.choice(X.shape[0], size=1, replace=False, p=probs)]\n",
    "\n",
    "    def numpy_dist(self, X, Y):\n",
    "        x_dist = (X ** 2).sum(axis=1)\n",
    "        y_dist = (Y ** 2).sum(axis=1)\n",
    "        xy_dist = X.dot(Y.T)\n",
    "        dist = - 2 * xy_dist + y_dist + x_dist.reshape(-1, 1)\n",
    "        return dist\n",
    "\n",
    "    def fit(self, X, y=None):\n",
    "        \"\"\"\n",
    "        Процедура обучения k-means\n",
    "        \"\"\"\n",
    "\n",
    "        np.random.seed(self.random_state)\n",
    "        self.labels = np.empty(X.shape[0])\n",
    "\n",
    "        self.centroids = np.empty((self.k, X.shape[1] + 1))\n",
    "\n",
    "        self.init_centroids(X)\n",
    "\n",
    "        for _ in range(self.max_iter):\n",
    "            distances = self.numpy_dist(X, self.centroids)\n",
    "            self.labels = distances.argmin(axis=1)\n",
    "            new_centroids = np.array([X[self.labels == k].mean(axis=0) for k in range(self.centroids.shape[0])])\n",
    "            if ((new_centroids - self.centroids) ** 2).sum() < 0.0001:\n",
    "                return self\n",
    "            self.centroids = new_centroids\n",
    "        return self\n",
    "\n",
    "    def predict(self, X, y=None):\n",
    "        \"\"\"\n",
    "        Процедура предсказания кластера\n",
    "\n",
    "        Возвращает метку ближайшего кластера для каждого объекта\n",
    "        \"\"\"\n",
    "        labels = np.empty(X.shape[0])\n",
    "        distances = self.numpy_dist(X, self.centroids)\n",
    "        labels = distances.argmin(axis=1)\n",
    "        return labels\n",
    "\n",
    "\n",
    "class MiniBatchKMeans(MyKmeans):\n",
    "    def __init__(self, k=2, metric='euclidean', max_iter=100, mbatchsize=10, random_state=None, init='random'):\n",
    "        \"\"\"\n",
    "        Инициализация метода\n",
    "        :k - количество кластеров\n",
    "        :metric - функция расстояния между объектами\n",
    "        :max_iter - максиальное количество итераций\n",
    "        :random_state - seed для инициализации генератора случайных чисел\n",
    "        \"\"\"\n",
    "        self.init = init\n",
    "        self.k = k\n",
    "        self.random_state = random_state\n",
    "        self.metric = metric\n",
    "        self.max_iter = max_iter\n",
    "        self.mbatchsize = mbatchsize\n",
    "\n",
    "    def fit(self, X, y=None):\n",
    "        np.random.seed(self.random_state)\n",
    "\n",
    "        self.labels = np.zeros((X.shape[0]))\n",
    "\n",
    "        self.centroids = np.empty((self.k, X.shape[1]))\n",
    "\n",
    "        if self.init == 'random':\n",
    "            self.init_random(X)\n",
    "        elif self.init == 'k-means':\n",
    "            self.init_plpl(X)\n",
    "        self.v = np.zeros(self.k)\n",
    "        for _ in range(self.max_iter):\n",
    "            self.randbatch = np.random.choice(X.shape[0], self.mbatchsize)\n",
    "            batchpts = X[self.randbatch]\n",
    "            batchdistances = self.numpy_dist(batchpts, self.centroids)\n",
    "            batchlabels = batchdistances.argmin(axis=1)\n",
    "            l_centroids = self.centroids\n",
    "            for i, x in enumerate(batchpts):\n",
    "                self.v[batchlabels[i]] += 1\n",
    "                buff = 1.0 / self.v[batchlabels[i]]\n",
    "                self.centroids[batchlabels[i]] = (1 - buff) * self.centroids[batchlabels[i]] + buff * batchpts[i]\n",
    "                self.labels[self.randbatch[i]] = batchlabels[i]\n",
    "        return self"
   ]
  },
  {
   "cell_type": "markdown",
   "metadata": {},
   "source": [
    "### Проверка корректности метода\n",
    "\n",
    "Перед тем как применять алгоритм на реальных данных, нужно испытать его на простых \"игрушечных\" данных.\n",
    "\n",
    "Если алгоритм реализован правильно, то метод должен идеально разбивать на 3 кластера данные ниже. Проверьте это.\n",
    "\n",
    "ВНИМАНИЕ! Проверка должна быть осуществлена на всех реализациях, иначе реализация не будет зачтена!"
   ]
  },
  {
   "cell_type": "code",
   "execution_count": 3,
   "metadata": {},
   "outputs": [],
   "source": [
    "from sklearn.datasets import make_blobs"
   ]
  },
  {
   "cell_type": "code",
   "execution_count": 4,
   "metadata": {},
   "outputs": [],
   "source": [
    "X, y = make_blobs(n_samples=100, n_features=2, centers=3, cluster_std=1, \n",
    "           center_box=(-10.0, 10.0), shuffle=False, random_state=1234)"
   ]
  },
  {
   "cell_type": "code",
   "execution_count": null,
   "metadata": {},
   "outputs": [],
   "source": []
  },
  {
   "cell_type": "code",
   "execution_count": 5,
   "metadata": {},
   "outputs": [
    {
     "data": {
      "text/plain": [
       "<matplotlib.collections.PathCollection at 0x7f662d2de908>"
      ]
     },
     "execution_count": 5,
     "metadata": {},
     "output_type": "execute_result"
    },
    {
     "data": {
      "image/png": "[encoded data removed]",
      "text/plain": [
       "<Figure size 432x288 with 1 Axes>"
      ]
     },
     "metadata": {},
     "output_type": "display_data"
    }
   ],
   "source": [
    "plt.scatter(X[:,0], X[:, 1], c=y)"
   ]
  },
  {
   "cell_type": "markdown",
   "metadata": {},
   "source": [
    "Проверьте Вашу имплементацию на простых данных (без этого пункта ДЗ не считается выполненным).   \n",
    "КОММЕНТАРИИ НЕ СТИРАТЬ!"
   ]
  },
  {
   "cell_type": "code",
   "execution_count": 205,
   "metadata": {},
   "outputs": [
    {
     "data": {
      "text/plain": [
       "<matplotlib.collections.PathCollection at 0x7f661a7614e0>"
      ]
     },
     "execution_count": 205,
     "metadata": {},
     "output_type": "execute_result"
    },
    {
     "data": {
      "image/png": "[encoded data removed]",
      "text/plain": [
       "<Figure size 432x288 with 1 Axes>"
      ]
     },
     "metadata": {},
     "output_type": "display_data"
    }
   ],
   "source": [
    "## Работоспособность MyKmeans\n",
    "kmeans = MyKmeans(k=3)\n",
    "\n",
    "kmeans.fit(X)\n",
    "\n",
    "plt.scatter(X[:,0], X[:, 1], c=kmeans.predict(X))\n",
    "plt.scatter(kmeans.centroids[:, 0], kmeans.centroids[:, 1])"
   ]
  },
  {
   "cell_type": "code",
   "execution_count": 164,
   "metadata": {},
   "outputs": [
    {
     "data": {
      "text/plain": [
       "<matplotlib.collections.PathCollection at 0x7f661b308a90>"
      ]
     },
     "execution_count": 164,
     "metadata": {},
     "output_type": "execute_result"
    },
    {
     "data": {
      "image/png": "[encoded data removed]",
      "text/plain": [
       "<Figure size 432x288 with 1 Axes>"
      ]
     },
     "metadata": {},
     "output_type": "display_data"
    }
   ],
   "source": [
    "## Работоспособность MyKmeans++\n",
    "kmeans = MyKmeans(k=3, init='k-means')\n",
    "\n",
    "kmeans.fit(X)\n",
    "\n",
    "plt.scatter(X[:,0], X[:, 1], c=kmeans.predict(X))\n",
    "plt.scatter(kmeans.centroids[:, 0], kmeans.centroids[:, 1])"
   ]
  },
  {
   "cell_type": "code",
   "execution_count": 227,
   "metadata": {},
   "outputs": [
    {
     "data": {
      "text/plain": [
       "<matplotlib.collections.PathCollection at 0x7f661a061ef0>"
      ]
     },
     "execution_count": 227,
     "metadata": {},
     "output_type": "execute_result"
    },
    {
     "data": {
      "image/png": "[encoded data removed]",
      "text/plain": [
       "<Figure size 432x288 with 1 Axes>"
      ]
     },
     "metadata": {},
     "output_type": "display_data"
    }
   ],
   "source": [
    "## Работоспособность MyKmeans с MiniBatchMyKmeans\n",
    "kmeans = MiniBatchKMeans(k=3)\n",
    "\n",
    "kmeans.fit(X)\n",
    "\n",
    "plt.scatter(X[:,0], X[:, 1], c=kmeans.predict(X))\n",
    "plt.scatter(kmeans.centroids[:, 0], kmeans.centroids[:, 1])"
   ]
  },
  {
   "cell_type": "code",
   "execution_count": 177,
   "metadata": {},
   "outputs": [
    {
     "data": {
      "text/plain": [
       "<matplotlib.collections.PathCollection at 0x7f661ae6a588>"
      ]
     },
     "execution_count": 177,
     "metadata": {},
     "output_type": "execute_result"
    },
    {
     "data": {
      "image/png": "[encoded data removed]",
      "text/plain": [
       "<Figure size 432x288 with 1 Axes>"
      ]
     },
     "metadata": {},
     "output_type": "display_data"
    }
   ],
   "source": [
    "## Работоспособность MyKmeans++ с MiniBatchMyKmeans\n",
    "kmeans = MiniBatchKMeans(k=3, init='k-means')\n",
    "\n",
    "kmeans.fit(X)\n",
    "\n",
    "plt.scatter(X[:,0], X[:, 1], c=kmeans.predict(X))\n",
    "plt.scatter(kmeans.centroids[:, 0], kmeans.centroids[:, 1])"
   ]
  },
  {
   "cell_type": "code",
   "execution_count": 38,
   "metadata": {},
   "outputs": [
    {
     "name": "stdout",
     "output_type": "stream",
     "text": [
      "CPU times: user 19.3 ms, sys: 0 ns, total: 19.3 ms\n",
      "Wall time: 20.9 ms\n"
     ]
    },
    {
     "data": {
      "text/plain": [
       "KMeans(algorithm='auto', copy_x=True, init='k-means++', max_iter=300,\n",
       "    n_clusters=3, n_init=10, n_jobs=1, precompute_distances='auto',\n",
       "    random_state=None, tol=0.0001, verbose=0)"
      ]
     },
     "execution_count": 38,
     "metadata": {},
     "output_type": "execute_result"
    }
   ],
   "source": [
    "## Время выполнения алгоритма Kmeans из sklearn\n",
    "from sklearn.cluster import KMeans\n",
    "%time KMeans(n_clusters=3).fit(X)"
   ]
  },
  {
   "cell_type": "code",
   "execution_count": 238,
   "metadata": {},
   "outputs": [
    {
     "name": "stdout",
     "output_type": "stream",
     "text": [
      "CPU times: user 15.2 ms, sys: 631 µs, total: 15.8 ms\n",
      "Wall time: 15 ms\n"
     ]
    },
    {
     "data": {
      "text/plain": [
       "MiniBatchKMeans(batch_size=100, compute_labels=True, init='k-means++',\n",
       "        init_size=None, max_iter=100, max_no_improvement=10, n_clusters=3,\n",
       "        n_init=3, random_state=None, reassignment_ratio=0.01, tol=0.0,\n",
       "        verbose=0)"
      ]
     },
     "execution_count": 238,
     "metadata": {},
     "output_type": "execute_result"
    }
   ],
   "source": [
    "from sklearn.cluster import MiniBatchKMeans\n",
    "%time MiniBatchKMeans(n_clusters=3).fit(X)"
   ]
  },
  {
   "cell_type": "code",
   "execution_count": 22,
   "metadata": {},
   "outputs": [
    {
     "name": "stdout",
     "output_type": "stream",
     "text": [
      "CPU times: user 1.85 ms, sys: 0 ns, total: 1.85 ms\n",
      "Wall time: 1.33 ms\n"
     ]
    },
    {
     "data": {
      "text/plain": [
       "<__main__.MyKmeans at 0x7f662d0da2e8>"
      ]
     },
     "execution_count": 22,
     "metadata": {},
     "output_type": "execute_result"
    }
   ],
   "source": [
    "## Время выполнения алгоритма MyKmeans\n",
    "%time MyKmeans(k=3).fit(X)"
   ]
  },
  {
   "cell_type": "code",
   "execution_count": 76,
   "metadata": {},
   "outputs": [
    {
     "name": "stdout",
     "output_type": "stream",
     "text": [
      "CPU times: user 1.74 ms, sys: 0 ns, total: 1.74 ms\n",
      "Wall time: 1.3 ms\n"
     ]
    },
    {
     "data": {
      "text/plain": [
       "<__main__.MyKmeans at 0x7f6629cde160>"
      ]
     },
     "execution_count": 76,
     "metadata": {},
     "output_type": "execute_result"
    }
   ],
   "source": [
    "## Время выполнения алгоритма MyKmeans++\n",
    "%time MyKmeans(k=3,init='k-means').fit(X)"
   ]
  },
  {
   "cell_type": "code",
   "execution_count": 235,
   "metadata": {},
   "outputs": [
    {
     "name": "stdout",
     "output_type": "stream",
     "text": [
      "CPU times: user 14.9 ms, sys: 0 ns, total: 14.9 ms\n",
      "Wall time: 14.3 ms\n"
     ]
    },
    {
     "data": {
      "text/plain": [
       "<__main__.MiniBatchKMeans at 0x7f661adaa390>"
      ]
     },
     "execution_count": 235,
     "metadata": {},
     "output_type": "execute_result"
    }
   ],
   "source": [
    "## Время выполнения алгоритма MyKmeans с MiniBatchMyKmeans\n",
    "%time MiniBatchKMeans(k=3).fit(X)"
   ]
  },
  {
   "cell_type": "code",
   "execution_count": 236,
   "metadata": {},
   "outputs": [
    {
     "name": "stdout",
     "output_type": "stream",
     "text": [
      "CPU times: user 13.9 ms, sys: 3.87 ms, total: 17.8 ms\n",
      "Wall time: 16.9 ms\n"
     ]
    },
    {
     "data": {
      "text/plain": [
       "<__main__.MiniBatchKMeans at 0x7f661a126c18>"
      ]
     },
     "execution_count": 236,
     "metadata": {},
     "output_type": "execute_result"
    }
   ],
   "source": [
    "## Время выполнения алгоритма  MyKmeans++ с MiniBatchMyKmeans\n",
    "%time MiniBatchKMeans(k=3, init='k-means').fit(X)"
   ]
  },
  {
   "cell_type": "code",
   "execution_count": 241,
   "metadata": {},
   "outputs": [
    {
     "data": {
      "text/plain": [
       "Text(0,0.5,'time')"
      ]
     },
     "execution_count": 241,
     "metadata": {},
     "output_type": "execute_result"
    },
    {
     "data": {
      "image/png": "[encoded data removed]",
      "text/plain": [
       "<Figure size 432x288 with 1 Axes>"
      ]
     },
     "metadata": {},
     "output_type": "display_data"
    }
   ],
   "source": [
    "## Время выполнения алгоритма Kmeans из sklearn\n",
    "import time\n",
    "size = [100, 500, 1000, 1500, 2000]\n",
    "t = np.empty(len(size))\n",
    "for i, s in enumerate(size):\n",
    "    X, y = make_blobs(n_samples=s, n_features=2, centers=3, cluster_std=1, \n",
    "           center_box=(-10.0, 10.0), shuffle=False, random_state=1234)\n",
    "    alg = KMeans(n_clusters=3)\n",
    "    t1 = time.time()\n",
    "    alg.fit(X)\n",
    "    t[i] = time.time() - t1\n",
    "plt.plot(size, t)\n",
    "plt.xlabel('number')\n",
    "plt.ylabel('time')"
   ]
  },
  {
   "cell_type": "code",
   "execution_count": 245,
   "metadata": {},
   "outputs": [
    {
     "data": {
      "text/plain": [
       "Text(0,0.5,'time')"
      ]
     },
     "execution_count": 245,
     "metadata": {},
     "output_type": "execute_result"
    },
    {
     "data": {
      "image/png": "[encoded data removed]",
      "text/plain": [
       "<Figure size 432x288 with 1 Axes>"
      ]
     },
     "metadata": {},
     "output_type": "display_data"
    }
   ],
   "source": [
    "#MyKmeans\n",
    "size = [100, 500, 1000, 1500, 2000]\n",
    "t = np.empty(len(size))\n",
    "for i, s in enumerate(size):\n",
    "    X, y = make_blobs(n_samples=s, n_features=2, centers=3, cluster_std=1, \n",
    "           center_box=(-10.0, 10.0), shuffle=False, random_state=1234)\n",
    "    alg = MyKmeans(k=3)\n",
    "    t1 = time.time()\n",
    "    alg.fit(X)\n",
    "    t[i] = time.time() - t1\n",
    "plt.plot(size, t)\n",
    "plt.xlabel('number')\n",
    "plt.ylabel('time')"
   ]
  },
  {
   "cell_type": "code",
   "execution_count": 268,
   "metadata": {},
   "outputs": [
    {
     "data": {
      "text/plain": [
       "Text(0,0.5,'time')"
      ]
     },
     "execution_count": 268,
     "metadata": {},
     "output_type": "execute_result"
    },
    {
     "data": {
      "image/png": "[encoded data removed]",
      "text/plain": [
       "<Figure size 432x288 with 1 Axes>"
      ]
     },
     "metadata": {},
     "output_type": "display_data"
    }
   ],
   "source": [
    "#KMeans++\n",
    "size = [100, 500, 1000, 1500, 2000]\n",
    "t = np.empty(len(size))\n",
    "for i, s in enumerate(size):\n",
    "    X, y = make_blobs(n_samples=s, n_features=2, centers=3, cluster_std=1, \n",
    "           center_box=(-10.0, 10.0), shuffle=False, random_state=1234)\n",
    "    alg = MyKmeans(k=3, init='k-means')\n",
    "    t1 = time.time()\n",
    "    alg.fit(X)\n",
    "    t[i] = time.time() - t1\n",
    "plt.plot(size, t)\n",
    "plt.xlabel('number')\n",
    "plt.ylabel('time')"
   ]
  },
  {
   "cell_type": "code",
   "execution_count": 265,
   "metadata": {},
   "outputs": [
    {
     "data": {
      "text/plain": [
       "Text(0,0.5,'time')"
      ]
     },
     "execution_count": 265,
     "metadata": {},
     "output_type": "execute_result"
    },
    {
     "data": {
      "image/png": "[encoded data removed]",
      "text/plain": [
       "<Figure size 432x288 with 1 Axes>"
      ]
     },
     "metadata": {},
     "output_type": "display_data"
    }
   ],
   "source": [
    "#MiniBatch\n",
    "size = [100, 500, 1000, 1500, 2000]\n",
    "t = np.empty(len(size))\n",
    "for i, s in enumerate(size):\n",
    "    X, y = make_blobs(n_samples=s, n_features=2, centers=3, cluster_std=1, \n",
    "           center_box=(-10.0, 10.0), shuffle=False, random_state=1234)\n",
    "    alg = MiniBatchKMeans(k=3)\n",
    "    t1 = time.time()\n",
    "    alg.fit(X)\n",
    "    t[i] = time.time() - t1\n",
    "plt.plot(size, t)\n",
    "plt.xlabel('number')\n",
    "plt.ylabel('time')"
   ]
  },
  {
   "cell_type": "code",
   "execution_count": 277,
   "metadata": {},
   "outputs": [
    {
     "data": {
      "text/plain": [
       "Text(0,0.5,'time')"
      ]
     },
     "execution_count": 277,
     "metadata": {},
     "output_type": "execute_result"
    },
    {
     "data": {
      "image/png": "[encoded data removed]",
      "text/plain": [
       "<Figure size 432x288 with 1 Axes>"
      ]
     },
     "metadata": {},
     "output_type": "display_data"
    }
   ],
   "source": [
    "#MiniBatch++\n",
    "size = [100, 500, 1000, 1500, 2000]\n",
    "t = np.empty(len(size))\n",
    "for i, s in enumerate(size):\n",
    "    X, y = make_blobs(n_samples=s, n_features=2, centers=3, cluster_std=1, \n",
    "           center_box=(-10.0, 10.0), shuffle=False, random_state=1234)\n",
    "    alg = MiniBatchKMeans(k=3, init='k-means')\n",
    "    t1 = time.time()\n",
    "    alg.fit(X)\n",
    "    t[i] = time.time() - t1\n",
    "plt.plot(size, t)\n",
    "plt.xlabel('number')\n",
    "plt.ylabel('time')"
   ]
  },
  {
   "cell_type": "markdown",
   "metadata": {},
   "source": [
    "# Применение K-means на реальных данных"
   ]
  },
  {
   "cell_type": "markdown",
   "metadata": {},
   "source": [
    "Загрузите [данные](https://github.com/brenden17/sklearnlab/blob/master/facebook/snsdata.csv) в которых содержится описание интересов профилей учеников старшей школы США.  (без этого пункта задание не считается выполненным).   \n",
    "ВНИМАНИЕ! Проверка должна быть осуществлена на всех реализациях, иначе реализация не будет зачтена!"
   ]
  },
  {
   "cell_type": "code",
   "execution_count": 278,
   "metadata": {},
   "outputs": [
    {
     "data": {
      "text/html": [
       "<div>\n",
       "<style scoped>\n",
       "    .dataframe tbody tr th:only-of-type {\n",
       "        vertical-align: middle;\n",
       "    }\n",
       "\n",
       "    .dataframe tbody tr th {\n",
       "        vertical-align: top;\n",
       "    }\n",
       "\n",
       "    .dataframe thead th {\n",
       "        text-align: right;\n",
       "    }\n",
       "</style>\n",
       "<table border=\"1\" class=\"dataframe\">\n",
       "  <thead>\n",
       "    <tr style=\"text-align: right;\">\n",
       "      <th></th>\n",
       "      <th>gradyear</th>\n",
       "      <th>gender</th>\n",
       "      <th>age</th>\n",
       "      <th>friends</th>\n",
       "      <th>basketball</th>\n",
       "      <th>football</th>\n",
       "      <th>soccer</th>\n",
       "      <th>softball</th>\n",
       "      <th>volleyball</th>\n",
       "      <th>swimming</th>\n",
       "      <th>...</th>\n",
       "      <th>blonde</th>\n",
       "      <th>mall</th>\n",
       "      <th>shopping</th>\n",
       "      <th>clothes</th>\n",
       "      <th>hollister</th>\n",
       "      <th>abercrombie</th>\n",
       "      <th>die</th>\n",
       "      <th>death</th>\n",
       "      <th>drunk</th>\n",
       "      <th>drugs</th>\n",
       "    </tr>\n",
       "  </thead>\n",
       "  <tbody>\n",
       "    <tr>\n",
       "      <th>0</th>\n",
       "      <td>2006</td>\n",
       "      <td>M</td>\n",
       "      <td>18.982</td>\n",
       "      <td>7</td>\n",
       "      <td>0</td>\n",
       "      <td>0</td>\n",
       "      <td>0</td>\n",
       "      <td>0</td>\n",
       "      <td>0</td>\n",
       "      <td>0</td>\n",
       "      <td>...</td>\n",
       "      <td>0</td>\n",
       "      <td>0</td>\n",
       "      <td>0</td>\n",
       "      <td>0</td>\n",
       "      <td>0</td>\n",
       "      <td>0</td>\n",
       "      <td>0</td>\n",
       "      <td>0</td>\n",
       "      <td>0</td>\n",
       "      <td>0</td>\n",
       "    </tr>\n",
       "    <tr>\n",
       "      <th>1</th>\n",
       "      <td>2006</td>\n",
       "      <td>F</td>\n",
       "      <td>18.801</td>\n",
       "      <td>0</td>\n",
       "      <td>0</td>\n",
       "      <td>1</td>\n",
       "      <td>0</td>\n",
       "      <td>0</td>\n",
       "      <td>0</td>\n",
       "      <td>0</td>\n",
       "      <td>...</td>\n",
       "      <td>0</td>\n",
       "      <td>1</td>\n",
       "      <td>0</td>\n",
       "      <td>0</td>\n",
       "      <td>0</td>\n",
       "      <td>0</td>\n",
       "      <td>0</td>\n",
       "      <td>0</td>\n",
       "      <td>0</td>\n",
       "      <td>0</td>\n",
       "    </tr>\n",
       "    <tr>\n",
       "      <th>2</th>\n",
       "      <td>2006</td>\n",
       "      <td>M</td>\n",
       "      <td>18.335</td>\n",
       "      <td>69</td>\n",
       "      <td>0</td>\n",
       "      <td>1</td>\n",
       "      <td>0</td>\n",
       "      <td>0</td>\n",
       "      <td>0</td>\n",
       "      <td>0</td>\n",
       "      <td>...</td>\n",
       "      <td>0</td>\n",
       "      <td>0</td>\n",
       "      <td>0</td>\n",
       "      <td>0</td>\n",
       "      <td>0</td>\n",
       "      <td>0</td>\n",
       "      <td>0</td>\n",
       "      <td>1</td>\n",
       "      <td>0</td>\n",
       "      <td>0</td>\n",
       "    </tr>\n",
       "    <tr>\n",
       "      <th>3</th>\n",
       "      <td>2006</td>\n",
       "      <td>F</td>\n",
       "      <td>18.875</td>\n",
       "      <td>0</td>\n",
       "      <td>0</td>\n",
       "      <td>0</td>\n",
       "      <td>0</td>\n",
       "      <td>0</td>\n",
       "      <td>0</td>\n",
       "      <td>0</td>\n",
       "      <td>...</td>\n",
       "      <td>0</td>\n",
       "      <td>0</td>\n",
       "      <td>0</td>\n",
       "      <td>0</td>\n",
       "      <td>0</td>\n",
       "      <td>0</td>\n",
       "      <td>0</td>\n",
       "      <td>0</td>\n",
       "      <td>0</td>\n",
       "      <td>0</td>\n",
       "    </tr>\n",
       "    <tr>\n",
       "      <th>4</th>\n",
       "      <td>2006</td>\n",
       "      <td>NaN</td>\n",
       "      <td>18.995</td>\n",
       "      <td>10</td>\n",
       "      <td>0</td>\n",
       "      <td>0</td>\n",
       "      <td>0</td>\n",
       "      <td>0</td>\n",
       "      <td>0</td>\n",
       "      <td>0</td>\n",
       "      <td>...</td>\n",
       "      <td>0</td>\n",
       "      <td>0</td>\n",
       "      <td>2</td>\n",
       "      <td>0</td>\n",
       "      <td>0</td>\n",
       "      <td>0</td>\n",
       "      <td>0</td>\n",
       "      <td>0</td>\n",
       "      <td>1</td>\n",
       "      <td>1</td>\n",
       "    </tr>\n",
       "  </tbody>\n",
       "</table>\n",
       "<p>5 rows × 40 columns</p>\n",
       "</div>"
      ],
      "text/plain": [
       "   gradyear gender     age  friends  basketball  football  soccer  softball  \\\n",
       "0      2006      M  18.982        7           0         0       0         0   \n",
       "1      2006      F  18.801        0           0         1       0         0   \n",
       "2      2006      M  18.335       69           0         1       0         0   \n",
       "3      2006      F  18.875        0           0         0       0         0   \n",
       "4      2006    NaN  18.995       10           0         0       0         0   \n",
       "\n",
       "   volleyball  swimming  ...    blonde  mall  shopping  clothes  hollister  \\\n",
       "0           0         0  ...         0     0         0        0          0   \n",
       "1           0         0  ...         0     1         0        0          0   \n",
       "2           0         0  ...         0     0         0        0          0   \n",
       "3           0         0  ...         0     0         0        0          0   \n",
       "4           0         0  ...         0     0         2        0          0   \n",
       "\n",
       "   abercrombie  die  death  drunk  drugs  \n",
       "0            0    0      0      0      0  \n",
       "1            0    0      0      0      0  \n",
       "2            0    0      1      0      0  \n",
       "3            0    0      0      0      0  \n",
       "4            0    0      0      1      1  \n",
       "\n",
       "[5 rows x 40 columns]"
      ]
     },
     "execution_count": 278,
     "metadata": {},
     "output_type": "execute_result"
    }
   ],
   "source": [
    "df_sns = pd.read_csv('snsdata.csv', sep=',')\n",
    "df_sns.head()"
   ]
  },
  {
   "cell_type": "markdown",
   "metadata": {},
   "source": [
    "Данные устроены так: \n",
    "* Год выпуска\n",
    "* Пол\n",
    "* Возраст\n",
    "* Количество друзей\n",
    "* 36 ключевых слов, которые встречаются в профилe facebook (интересы, сообщества, встречи)"
   ]
  },
  {
   "cell_type": "markdown",
   "metadata": {},
   "source": [
    "* Удалите все признаки кроме 36 ключевых слов.\n",
    "* Нормализуйте данные - из каждого столбца вычтите его среднее значение и поделите на стандартное отклонение.\n",
    "* Используйте метод k-means чтобы выделить 9 кластеров\n",
    "* Попробуйте проинтерпретировать каждый кластер проанализировав полученные центройды (Некоторые кластеры могут быть очень большие и очень маленькие - плохо интерпретируются)   \n",
    "КОММЕНТАРИИ НЕ СТИРАТЬ!"
   ]
  },
  {
   "cell_type": "code",
   "execution_count": 279,
   "metadata": {},
   "outputs": [
    {
     "data": {
      "text/html": [
       "<div>\n",
       "<style scoped>\n",
       "    .dataframe tbody tr th:only-of-type {\n",
       "        vertical-align: middle;\n",
       "    }\n",
       "\n",
       "    .dataframe tbody tr th {\n",
       "        vertical-align: top;\n",
       "    }\n",
       "\n",
       "    .dataframe thead th {\n",
       "        text-align: right;\n",
       "    }\n",
       "</style>\n",
       "<table border=\"1\" class=\"dataframe\">\n",
       "  <thead>\n",
       "    <tr style=\"text-align: right;\">\n",
       "      <th></th>\n",
       "      <th>friends</th>\n",
       "      <th>basketball</th>\n",
       "      <th>football</th>\n",
       "      <th>soccer</th>\n",
       "      <th>softball</th>\n",
       "      <th>volleyball</th>\n",
       "      <th>swimming</th>\n",
       "      <th>cheerleading</th>\n",
       "      <th>baseball</th>\n",
       "      <th>tennis</th>\n",
       "      <th>...</th>\n",
       "      <th>blonde</th>\n",
       "      <th>mall</th>\n",
       "      <th>shopping</th>\n",
       "      <th>clothes</th>\n",
       "      <th>hollister</th>\n",
       "      <th>abercrombie</th>\n",
       "      <th>die</th>\n",
       "      <th>death</th>\n",
       "      <th>drunk</th>\n",
       "      <th>drugs</th>\n",
       "    </tr>\n",
       "  </thead>\n",
       "  <tbody>\n",
       "    <tr>\n",
       "      <th>0</th>\n",
       "      <td>7</td>\n",
       "      <td>0</td>\n",
       "      <td>0</td>\n",
       "      <td>0</td>\n",
       "      <td>0</td>\n",
       "      <td>0</td>\n",
       "      <td>0</td>\n",
       "      <td>0</td>\n",
       "      <td>0</td>\n",
       "      <td>0</td>\n",
       "      <td>...</td>\n",
       "      <td>0</td>\n",
       "      <td>0</td>\n",
       "      <td>0</td>\n",
       "      <td>0</td>\n",
       "      <td>0</td>\n",
       "      <td>0</td>\n",
       "      <td>0</td>\n",
       "      <td>0</td>\n",
       "      <td>0</td>\n",
       "      <td>0</td>\n",
       "    </tr>\n",
       "    <tr>\n",
       "      <th>1</th>\n",
       "      <td>0</td>\n",
       "      <td>0</td>\n",
       "      <td>1</td>\n",
       "      <td>0</td>\n",
       "      <td>0</td>\n",
       "      <td>0</td>\n",
       "      <td>0</td>\n",
       "      <td>0</td>\n",
       "      <td>0</td>\n",
       "      <td>0</td>\n",
       "      <td>...</td>\n",
       "      <td>0</td>\n",
       "      <td>1</td>\n",
       "      <td>0</td>\n",
       "      <td>0</td>\n",
       "      <td>0</td>\n",
       "      <td>0</td>\n",
       "      <td>0</td>\n",
       "      <td>0</td>\n",
       "      <td>0</td>\n",
       "      <td>0</td>\n",
       "    </tr>\n",
       "    <tr>\n",
       "      <th>2</th>\n",
       "      <td>69</td>\n",
       "      <td>0</td>\n",
       "      <td>1</td>\n",
       "      <td>0</td>\n",
       "      <td>0</td>\n",
       "      <td>0</td>\n",
       "      <td>0</td>\n",
       "      <td>0</td>\n",
       "      <td>0</td>\n",
       "      <td>0</td>\n",
       "      <td>...</td>\n",
       "      <td>0</td>\n",
       "      <td>0</td>\n",
       "      <td>0</td>\n",
       "      <td>0</td>\n",
       "      <td>0</td>\n",
       "      <td>0</td>\n",
       "      <td>0</td>\n",
       "      <td>1</td>\n",
       "      <td>0</td>\n",
       "      <td>0</td>\n",
       "    </tr>\n",
       "    <tr>\n",
       "      <th>3</th>\n",
       "      <td>0</td>\n",
       "      <td>0</td>\n",
       "      <td>0</td>\n",
       "      <td>0</td>\n",
       "      <td>0</td>\n",
       "      <td>0</td>\n",
       "      <td>0</td>\n",
       "      <td>0</td>\n",
       "      <td>0</td>\n",
       "      <td>0</td>\n",
       "      <td>...</td>\n",
       "      <td>0</td>\n",
       "      <td>0</td>\n",
       "      <td>0</td>\n",
       "      <td>0</td>\n",
       "      <td>0</td>\n",
       "      <td>0</td>\n",
       "      <td>0</td>\n",
       "      <td>0</td>\n",
       "      <td>0</td>\n",
       "      <td>0</td>\n",
       "    </tr>\n",
       "    <tr>\n",
       "      <th>4</th>\n",
       "      <td>10</td>\n",
       "      <td>0</td>\n",
       "      <td>0</td>\n",
       "      <td>0</td>\n",
       "      <td>0</td>\n",
       "      <td>0</td>\n",
       "      <td>0</td>\n",
       "      <td>0</td>\n",
       "      <td>0</td>\n",
       "      <td>0</td>\n",
       "      <td>...</td>\n",
       "      <td>0</td>\n",
       "      <td>0</td>\n",
       "      <td>2</td>\n",
       "      <td>0</td>\n",
       "      <td>0</td>\n",
       "      <td>0</td>\n",
       "      <td>0</td>\n",
       "      <td>0</td>\n",
       "      <td>1</td>\n",
       "      <td>1</td>\n",
       "    </tr>\n",
       "  </tbody>\n",
       "</table>\n",
       "<p>5 rows × 37 columns</p>\n",
       "</div>"
      ],
      "text/plain": [
       "   friends  basketball  football  soccer  softball  volleyball  swimming  \\\n",
       "0        7           0         0       0         0           0         0   \n",
       "1        0           0         1       0         0           0         0   \n",
       "2       69           0         1       0         0           0         0   \n",
       "3        0           0         0       0         0           0         0   \n",
       "4       10           0         0       0         0           0         0   \n",
       "\n",
       "   cheerleading  baseball  tennis  ...    blonde  mall  shopping  clothes  \\\n",
       "0             0         0       0  ...         0     0         0        0   \n",
       "1             0         0       0  ...         0     1         0        0   \n",
       "2             0         0       0  ...         0     0         0        0   \n",
       "3             0         0       0  ...         0     0         0        0   \n",
       "4             0         0       0  ...         0     0         2        0   \n",
       "\n",
       "   hollister  abercrombie  die  death  drunk  drugs  \n",
       "0          0            0    0      0      0      0  \n",
       "1          0            0    0      0      0      0  \n",
       "2          0            0    0      1      0      0  \n",
       "3          0            0    0      0      0      0  \n",
       "4          0            0    0      0      1      1  \n",
       "\n",
       "[5 rows x 37 columns]"
      ]
     },
     "execution_count": 279,
     "metadata": {},
     "output_type": "execute_result"
    }
   ],
   "source": [
    "#Удалите все признаки кроме 36 ключевых слов.\n",
    "df_sns=df_sns.drop(df_sns.columns[[0, 1, 2]], axis=1)\n",
    "df_sns.head()"
   ]
  },
  {
   "cell_type": "code",
   "execution_count": 280,
   "metadata": {},
   "outputs": [
    {
     "data": {
      "text/html": [
       "<div>\n",
       "<style scoped>\n",
       "    .dataframe tbody tr th:only-of-type {\n",
       "        vertical-align: middle;\n",
       "    }\n",
       "\n",
       "    .dataframe tbody tr th {\n",
       "        vertical-align: top;\n",
       "    }\n",
       "\n",
       "    .dataframe thead th {\n",
       "        text-align: right;\n",
       "    }\n",
       "</style>\n",
       "<table border=\"1\" class=\"dataframe\">\n",
       "  <thead>\n",
       "    <tr style=\"text-align: right;\">\n",
       "      <th></th>\n",
       "      <th>friends</th>\n",
       "      <th>basketball</th>\n",
       "      <th>football</th>\n",
       "      <th>soccer</th>\n",
       "      <th>softball</th>\n",
       "      <th>volleyball</th>\n",
       "      <th>swimming</th>\n",
       "      <th>cheerleading</th>\n",
       "      <th>baseball</th>\n",
       "      <th>tennis</th>\n",
       "      <th>...</th>\n",
       "      <th>blonde</th>\n",
       "      <th>mall</th>\n",
       "      <th>shopping</th>\n",
       "      <th>clothes</th>\n",
       "      <th>hollister</th>\n",
       "      <th>abercrombie</th>\n",
       "      <th>die</th>\n",
       "      <th>death</th>\n",
       "      <th>drunk</th>\n",
       "      <th>drugs</th>\n",
       "    </tr>\n",
       "  </thead>\n",
       "  <tbody>\n",
       "    <tr>\n",
       "      <th>0</th>\n",
       "      <td>-0.634517</td>\n",
       "      <td>-0.332212</td>\n",
       "      <td>-0.357691</td>\n",
       "      <td>-0.24287</td>\n",
       "      <td>-0.217924</td>\n",
       "      <td>-0.223666</td>\n",
       "      <td>-0.259966</td>\n",
       "      <td>-0.207324</td>\n",
       "      <td>-0.201127</td>\n",
       "      <td>-0.168936</td>\n",
       "      <td>...</td>\n",
       "      <td>-0.050936</td>\n",
       "      <td>-0.369909</td>\n",
       "      <td>-0.487306</td>\n",
       "      <td>-0.314193</td>\n",
       "      <td>-0.201473</td>\n",
       "      <td>-0.183029</td>\n",
       "      <td>-0.294788</td>\n",
       "      <td>-0.261526</td>\n",
       "      <td>-0.220399</td>\n",
       "      <td>-0.174905</td>\n",
       "    </tr>\n",
       "    <tr>\n",
       "      <th>1</th>\n",
       "      <td>-0.826136</td>\n",
       "      <td>-0.332212</td>\n",
       "      <td>1.060031</td>\n",
       "      <td>-0.24287</td>\n",
       "      <td>-0.217924</td>\n",
       "      <td>-0.223666</td>\n",
       "      <td>-0.259966</td>\n",
       "      <td>-0.207324</td>\n",
       "      <td>-0.201127</td>\n",
       "      <td>-0.168936</td>\n",
       "      <td>...</td>\n",
       "      <td>-0.050936</td>\n",
       "      <td>1.067374</td>\n",
       "      <td>-0.487306</td>\n",
       "      <td>-0.314193</td>\n",
       "      <td>-0.201473</td>\n",
       "      <td>-0.183029</td>\n",
       "      <td>-0.294788</td>\n",
       "      <td>-0.261526</td>\n",
       "      <td>-0.220399</td>\n",
       "      <td>-0.174905</td>\n",
       "    </tr>\n",
       "    <tr>\n",
       "      <th>2</th>\n",
       "      <td>1.062677</td>\n",
       "      <td>-0.332212</td>\n",
       "      <td>1.060031</td>\n",
       "      <td>-0.24287</td>\n",
       "      <td>-0.217924</td>\n",
       "      <td>-0.223666</td>\n",
       "      <td>-0.259966</td>\n",
       "      <td>-0.207324</td>\n",
       "      <td>-0.201127</td>\n",
       "      <td>-0.168936</td>\n",
       "      <td>...</td>\n",
       "      <td>-0.050936</td>\n",
       "      <td>-0.369909</td>\n",
       "      <td>-0.487306</td>\n",
       "      <td>-0.314193</td>\n",
       "      <td>-0.201473</td>\n",
       "      <td>-0.183029</td>\n",
       "      <td>-0.294788</td>\n",
       "      <td>2.027874</td>\n",
       "      <td>-0.220399</td>\n",
       "      <td>-0.174905</td>\n",
       "    </tr>\n",
       "    <tr>\n",
       "      <th>3</th>\n",
       "      <td>-0.826136</td>\n",
       "      <td>-0.332212</td>\n",
       "      <td>-0.357691</td>\n",
       "      <td>-0.24287</td>\n",
       "      <td>-0.217924</td>\n",
       "      <td>-0.223666</td>\n",
       "      <td>-0.259966</td>\n",
       "      <td>-0.207324</td>\n",
       "      <td>-0.201127</td>\n",
       "      <td>-0.168936</td>\n",
       "      <td>...</td>\n",
       "      <td>-0.050936</td>\n",
       "      <td>-0.369909</td>\n",
       "      <td>-0.487306</td>\n",
       "      <td>-0.314193</td>\n",
       "      <td>-0.201473</td>\n",
       "      <td>-0.183029</td>\n",
       "      <td>-0.294788</td>\n",
       "      <td>-0.261526</td>\n",
       "      <td>-0.220399</td>\n",
       "      <td>-0.174905</td>\n",
       "    </tr>\n",
       "    <tr>\n",
       "      <th>4</th>\n",
       "      <td>-0.552395</td>\n",
       "      <td>-0.332212</td>\n",
       "      <td>-0.357691</td>\n",
       "      <td>-0.24287</td>\n",
       "      <td>-0.217924</td>\n",
       "      <td>-0.223666</td>\n",
       "      <td>-0.259966</td>\n",
       "      <td>-0.207324</td>\n",
       "      <td>-0.201127</td>\n",
       "      <td>-0.168936</td>\n",
       "      <td>...</td>\n",
       "      <td>-0.050936</td>\n",
       "      <td>-0.369909</td>\n",
       "      <td>2.273635</td>\n",
       "      <td>-0.314193</td>\n",
       "      <td>-0.201473</td>\n",
       "      <td>-0.183029</td>\n",
       "      <td>-0.294788</td>\n",
       "      <td>-0.261526</td>\n",
       "      <td>2.285084</td>\n",
       "      <td>2.719271</td>\n",
       "    </tr>\n",
       "  </tbody>\n",
       "</table>\n",
       "<p>5 rows × 37 columns</p>\n",
       "</div>"
      ],
      "text/plain": [
       "    friends  basketball  football   soccer  softball  volleyball  swimming  \\\n",
       "0 -0.634517   -0.332212 -0.357691 -0.24287 -0.217924   -0.223666 -0.259966   \n",
       "1 -0.826136   -0.332212  1.060031 -0.24287 -0.217924   -0.223666 -0.259966   \n",
       "2  1.062677   -0.332212  1.060031 -0.24287 -0.217924   -0.223666 -0.259966   \n",
       "3 -0.826136   -0.332212 -0.357691 -0.24287 -0.217924   -0.223666 -0.259966   \n",
       "4 -0.552395   -0.332212 -0.357691 -0.24287 -0.217924   -0.223666 -0.259966   \n",
       "\n",
       "   cheerleading  baseball    tennis    ...       blonde      mall  shopping  \\\n",
       "0     -0.207324 -0.201127 -0.168936    ...    -0.050936 -0.369909 -0.487306   \n",
       "1     -0.207324 -0.201127 -0.168936    ...    -0.050936  1.067374 -0.487306   \n",
       "2     -0.207324 -0.201127 -0.168936    ...    -0.050936 -0.369909 -0.487306   \n",
       "3     -0.207324 -0.201127 -0.168936    ...    -0.050936 -0.369909 -0.487306   \n",
       "4     -0.207324 -0.201127 -0.168936    ...    -0.050936 -0.369909  2.273635   \n",
       "\n",
       "    clothes  hollister  abercrombie       die     death     drunk     drugs  \n",
       "0 -0.314193  -0.201473    -0.183029 -0.294788 -0.261526 -0.220399 -0.174905  \n",
       "1 -0.314193  -0.201473    -0.183029 -0.294788 -0.261526 -0.220399 -0.174905  \n",
       "2 -0.314193  -0.201473    -0.183029 -0.294788  2.027874 -0.220399 -0.174905  \n",
       "3 -0.314193  -0.201473    -0.183029 -0.294788 -0.261526 -0.220399 -0.174905  \n",
       "4 -0.314193  -0.201473    -0.183029 -0.294788 -0.261526  2.285084  2.719271  \n",
       "\n",
       "[5 rows x 37 columns]"
      ]
     },
     "execution_count": 280,
     "metadata": {},
     "output_type": "execute_result"
    }
   ],
   "source": [
    "#Нормализуйте данные - из каждого столбца вычтите его среднее значение и поделите на стандартное отклонение.\n",
    "df_sns=(df_sns-df_sns.mean())/df_sns.std()\n",
    "df_sns.head()"
   ]
  },
  {
   "cell_type": "code",
   "execution_count": 281,
   "metadata": {},
   "outputs": [],
   "source": [
    "#Используйте метод k-means чтобы выделить 9 кластеров\n",
    "df_sns_np=df_sns.values"
   ]
  },
  {
   "cell_type": "code",
   "execution_count": 306,
   "metadata": {},
   "outputs": [
    {
     "name": "stdout",
     "output_type": "stream",
     "text": [
      "Index([['kissed', 'drugs', 'hair'], ['football', 'baseball', 'basketball'],\n",
      "       ['marching', 'band', 'music'], ['shopping', 'cute', 'church'],\n",
      "       ['dress', 'shopping', 'dance'], ['tennis', 'sports', 'church'],\n",
      "       ['blonde', 'soccer', 'bible'], ['hollister', 'abercrombie', 'shopping'],\n",
      "       ['softball', 'volleyball', 'basketball']],\n",
      "      dtype='object')\n"
     ]
    }
   ],
   "source": [
    "## MyKMeans\n",
    "result=MyKmeans(k=9).fit(df_sns_np)\n",
    "print(df_sns.columns[(result.centroids.copy()).argsort()[:,::-1][:,:3]])"
   ]
  },
  {
   "cell_type": "code",
   "execution_count": 296,
   "metadata": {},
   "outputs": [
    {
     "name": "stdout",
     "output_type": "stream",
     "text": [
      "Index([['blonde', 'jesus', 'death'], ['bible', 'jesus', 'god'],\n",
      "       ['cheerleading', 'shopping', 'football'],\n",
      "       ['shopping', 'hollister', 'mall'],\n",
      "       ['football', 'basketball', 'baseball'],\n",
      "       ['volleyball', 'softball', 'basketball'], ['marching', 'band', 'music'],\n",
      "       ['kissed', 'drugs', 'hair'], ['tennis', 'sports', 'church']],\n",
      "      dtype='object')\n"
     ]
    }
   ],
   "source": [
    "## MyKMeans++\n",
    "result=MyKmeans(k=9, init='k-means').fit(df_sns_np)\n",
    "print(df_sns.columns[(result.centroids.copy()).argsort()[:,::-1][:,:3]])"
   ]
  },
  {
   "cell_type": "code",
   "execution_count": 304,
   "metadata": {},
   "outputs": [
    {
     "name": "stdout",
     "output_type": "stream",
     "text": [
      "Index([['softball', 'sports', 'volleyball'], ['kissed', 'sex', 'hair'],\n",
      "       ['drunk', 'hair', 'drugs'], ['basketball', 'baseball', 'football'],\n",
      "       ['shopping', 'dance', 'swimming'], ['marching', 'band', 'music'],\n",
      "       ['bible', 'god', 'church'],\n",
      "       ['abercrombie', 'hollister', 'cheerleading'],\n",
      "       ['blonde', 'baseball', 'tennis']],\n",
      "      dtype='object')\n"
     ]
    }
   ],
   "source": [
    "## MyKMeans с MiniBatchMyKMeans\n",
    "result=MiniBatchKMeans(k=9, max_iter=1000, mbatchsize=100).fit(df_sns_np)\n",
    "print(df_sns.columns[(result.centroids.copy()).argsort()[:,::-1][:,:3]])"
   ]
  },
  {
   "cell_type": "code",
   "execution_count": 305,
   "metadata": {},
   "outputs": [
    {
     "name": "stdout",
     "output_type": "stream",
     "text": [
      "Index([['blonde', 'tennis', 'baseball'], ['sex', 'blonde', 'hair'],\n",
      "       ['hollister', 'abercrombie', 'shopping'], ['kissed', 'drugs', 'hair'],\n",
      "       ['softball', 'basketball', 'sports'], ['bible', 'jesus', 'god'],\n",
      "       ['dress', 'shopping', 'dance'],\n",
      "       ['volleyball', 'basketball', 'swimming'], ['shopping', 'cute', 'mall']],\n",
      "      dtype='object')\n"
     ]
    }
   ],
   "source": [
    "## MyKMeans++ с MiniBatchMyKMeans\n",
    "result=MiniBatchKMeans(k=9, init='k-means', max_iter=1000, mbatchsize=100).fit(df_sns_np)\n",
    "print(df_sns.columns[(result.centroids.copy()).argsort()[:,::-1][:,:3]])"
   ]
  },
  {
   "cell_type": "markdown",
   "metadata": {},
   "source": [
    "## Вывод\n",
    "Выявить лучший алгоритм достаточно сложно, тк для всех верно:\n",
    "\n",
    "1) Алгоритмы используют случайный выбор начальных центроид (центров масс)\n",
    "\n",
    "2) Алгоритмы гарантируют нахождение одного из локальных минимумов, зависящит от нач условий.\n",
    "\n",
    "3) из 1) 2) => неустойчивость\n",
    "\n",
    "Не совсем для всех кластеров можно дать однозначную тематическую интерпретацию:\n",
    "\n",
    "Например: 'abercrombie', 'hollister', 'cheerleading' -> Стиль одежды, однако черлидинг мешает, хотя можно интерпретировать как область интересов черлидершь))\n",
    "\n",
    "Но есть и однозанчно интепретируемые 'bible', 'jesus', 'god' -> однозначно религия \n",
    "\n",
    "про спорт очевидно.\n",
    "\n",
    "Видимо, некоторые признаки находятся на границе и в зависимости от нач услови перетекают из одного кластера в другой"
   ]
  },
  {
   "cell_type": "code",
   "execution_count": null,
   "metadata": {},
   "outputs": [],
   "source": []
  }
 ],
 "metadata": {
  "anaconda-cloud": {},
  "kernelspec": {
   "display_name": "Python 3",
   "language": "python",
   "name": "python3"
  },
  "language_info": {
   "codemirror_mode": {
    "name": "ipython",
    "version": 3
   },
   "file_extension": ".py",
   "mimetype": "text/x-python",
   "name": "python",
   "nbconvert_exporter": "python",
   "pygments_lexer": "ipython3",
   "version": "3.6.4"
  },
  "nav_menu": {},
  "toc": {
   "navigate_menu": true,
   "number_sections": false,
   "sideBar": true,
   "threshold": 6,
   "toc_cell": false,
   "toc_section_display": "block",
   "toc_window_display": true
  }
 },
 "nbformat": 4,
 "nbformat_minor": 2
}
